{
 "cells": [
  {
   "cell_type": "markdown",
   "metadata": {},
   "source": [
    "# Image Classification with TensorFlow\n",
    "\n",
    "Image classification is a common task for deep learning and neural networks.  The raw features coming in are the pixel values.  These are simple enough to deal with, but it is difficult to connect pixel values to determining whether an image is of a cat.  Older methods used a lot of clever filters, but the current best-of-breed algorithms simply throw a lot of linear algebra at the problem.\n",
    "\n",
    "In this project, we build a series of models to classify a series of images into one of ten classes. "
   ]
  },
  {
   "cell_type": "markdown",
   "metadata": {},
   "source": [
    "## Downloading and processing the data\n",
    "\n",
    "We consider the CIFAR-10 data set (https://www.cs.toronto.edu/~kriz/cifar.html). The data set is already converted to numpy arrays. For every practical purposes, we will have a set of PNG images. \n",
    "\n",
    "Therefore here we describe the process of the converting a set of PNG images to numpy array first. We download the same set of PNG images from \n",
    "https://www.kaggle.com/datasets/swaroopkml/cifar10-pngs-in-folders\n",
    "\n",
    "The directory contains sub-directories which contain the images of a particular class like Airplane, Bird, Cat ...\n"
   ]
  },
  {
   "cell_type": "code",
   "execution_count": 1,
   "metadata": {},
   "outputs": [],
   "source": [
    "from PIL import Image\n",
    "import numpy as np\n",
    "import os\n",
    "import multiprocessing"
   ]
  },
  {
   "cell_type": "markdown",
   "metadata": {},
   "source": [
    "The human readable names are"
   ]
  },
  {
   "cell_type": "code",
   "execution_count": 2,
   "metadata": {},
   "outputs": [
    {
     "data": {
      "text/plain": [
       "['airplane',\n",
       " 'automobile',\n",
       " 'bird',\n",
       " 'cat',\n",
       " 'deer',\n",
       " 'dog',\n",
       " 'frog',\n",
       " 'horse',\n",
       " 'ship',\n",
       " 'truck']"
      ]
     },
     "execution_count": 2,
     "metadata": {},
     "output_type": "execute_result"
    }
   ],
   "source": [
    "labels = list(os.walk(\"./archive/cifar10/cifar10/train/\"))[0][1]\n",
    "labels"
   ]
  },
  {
   "cell_type": "code",
   "execution_count": 5,
   "metadata": {},
   "outputs": [],
   "source": [
    "from multiprocessing import pool\n",
    "Pool = pool"
   ]
  },
  {
   "cell_type": "code",
   "execution_count": 45,
   "metadata": {},
   "outputs": [],
   "source": [
    "\n",
    "image_dir = \"./archive/cifar10/cifar10/train/\"\n",
    "train_data = []\n",
    "\n",
    "# Loop through the image files in the directory\n",
    "for i in range(10):\n",
    "    for filename in os.listdir(image_dir+labels[i]):\n",
    "        image = Image.open(os.path.join(image_dir+labels[i], filename))\n",
    "\n",
    "        image_array = np.array(image)\n",
    "\n",
    "        train_data.append(image_array)\n",
    "\n",
    "train_data = np.array(train_data)"
   ]
  },
  {
   "cell_type": "code",
   "execution_count": 46,
   "metadata": {},
   "outputs": [],
   "source": [
    "image_dir = \"./archive/cifar10/cifar10/test/\"\n",
    "test_data = []\n",
    "\n",
    "# Loop through the image files in the directory\n",
    "for i in range(10):\n",
    "    for filename in os.listdir(image_dir+labels[i]):\n",
    "        image = Image.open(os.path.join(image_dir+labels[i], filename))\n",
    "\n",
    "        image_array = np.array(image)\n",
    "\n",
    "        test_data.append(image_array)\n",
    "\n",
    "test_data = np.array(test_data)"
   ]
  },
  {
   "cell_type": "code",
   "execution_count": 47,
   "metadata": {},
   "outputs": [],
   "source": [
    "train_labels = np.hstack([np.ones(5000)*i for i in range(10)])\n",
    "test_labels = np.hstack([np.ones(1000)*i for i in range(10)])"
   ]
  },
  {
   "cell_type": "code",
   "execution_count": 60,
   "metadata": {},
   "outputs": [],
   "source": [
    "# Now reshuffle the images randomly\n",
    "import random\n",
    "temp = list(zip(train_labels,train_data))\n",
    "random.shuffle(temp)\n",
    "train_labels,train_data = zip(*temp)\n",
    "train_labels,train_data = np.array(train_labels), np.array(train_data)\n",
    "\n",
    "temp = list(zip(test_labels,test_data))\n",
    "random.shuffle(temp)\n",
    "test_labels,test_data = zip(*temp)\n",
    "test_labels,test_data = np.array(test_labels), np.array(test_data)"
   ]
  },
  {
   "cell_type": "markdown",
   "metadata": {},
   "source": [
    "Let's check if the images are properly imported in the numpy array. Check the 10286th image."
   ]
  },
  {
   "cell_type": "code",
   "execution_count": 61,
   "metadata": {},
   "outputs": [
    {
     "data": {
      "text/plain": [
       "<matplotlib.image.AxesImage at 0x7fed984e4fd0>"
      ]
     },
     "execution_count": 61,
     "metadata": {},
     "output_type": "execute_result"
    },
    {
     "data": {
      "image/png": "[encoded data removed]",
      "text/plain": [
       "<Figure size 432x288 with 1 Axes>"
      ]
     },
     "metadata": {
      "needs_background": "light"
     },
     "output_type": "display_data"
    }
   ],
   "source": [
    "import matplotlib.pyplot\n",
    "matplotlib.pyplot.rcParams[\"axes.grid\"] = False  #  Remove the grid lines from the image.\n",
    "matplotlib.pyplot.imshow(train_data[10286,:,:,:])"
   ]
  },
  {
   "cell_type": "code",
   "execution_count": 62,
   "metadata": {},
   "outputs": [
    {
     "data": {
      "text/plain": [
       "'horse'"
      ]
     },
     "execution_count": 62,
     "metadata": {},
     "output_type": "execute_result"
    }
   ],
   "source": [
    "labels[int(train_labels[10286])]"
   ]
  },
  {
   "cell_type": "code",
   "execution_count": 41,
   "metadata": {},
   "outputs": [],
   "source": [
    "import tensorflow as tf\n",
    "from tensorflow import keras"
   ]
  },
  {
   "cell_type": "code",
   "execution_count": 64,
   "metadata": {},
   "outputs": [],
   "source": [
    "y_train = tf.one_hot(train_labels,10)\n",
    "y_test = tf.one_hot(test_labels,10)"
   ]
  },
  {
   "cell_type": "code",
   "execution_count": 14,
   "metadata": {},
   "outputs": [],
   "source": [
    "model = tf.keras.models.Sequential()"
   ]
  },
  {
   "cell_type": "code",
   "execution_count": 15,
   "metadata": {},
   "outputs": [],
   "source": [
    "model.add(tf.keras.layers.Conv2D(32, [5,5],strides=1, activation='relu', padding='same', input_shape=(32, 32, 3)))\n",
    "model.add(tf.keras.layers.MaxPool2D(pool_size=(2,2), strides=2, padding='same'))\n",
    "model.add(tf.keras.layers.Conv2D(32, [5,5],strides=1, activation='relu', padding='same'))\n",
    "model.add(tf.keras.layers.MaxPool2D(pool_size=(2,2), strides=2, padding='same'))"
   ]
  },
  {
   "cell_type": "code",
   "execution_count": 17,
   "metadata": {},
   "outputs": [],
   "source": [
    "model.add(tf.keras.layers.Flatten())\n",
    "model.add(tf.keras.layers.Dropout(0.2))\n",
    "model.add(tf.keras.layers.Dense(256,activation=tf.nn.relu))\n",
    "model.add(tf.keras.layers.Dropout(0.2))\n",
    "#model.add(tf.keras.layers.Dense(256,activation=tf.nn.relu))\n",
    "model.add(tf.keras.layers.Dense(10,activation=tf.nn.softmax))"
   ]
  },
  {
   "cell_type": "code",
   "execution_count": 18,
   "metadata": {},
   "outputs": [],
   "source": [
    "model.compile(optimizer='adam', loss=tf.keras.losses.categorical_crossentropy, metrics=['accuracy'])"
   ]
  },
  {
   "cell_type": "code",
   "execution_count": 65,
   "metadata": {},
   "outputs": [
    {
     "name": "stdout",
     "output_type": "stream",
     "text": [
      "Epoch 1/12\n",
      "1000/1000 [==============================] - 27s 27ms/step - loss: 2.4985 - accuracy: 0.2103 - val_loss: 1.8658 - val_accuracy: 0.3255\n",
      "Epoch 2/12\n",
      "1000/1000 [==============================] - 27s 27ms/step - loss: 1.7802 - accuracy: 0.3509 - val_loss: 1.5538 - val_accuracy: 0.4479\n",
      "Epoch 3/12\n",
      "1000/1000 [==============================] - 27s 27ms/step - loss: 1.5603 - accuracy: 0.4364 - val_loss: 1.4838 - val_accuracy: 0.4605\n",
      "Epoch 4/12\n",
      "1000/1000 [==============================] - 27s 27ms/step - loss: 1.4440 - accuracy: 0.4809 - val_loss: 1.3408 - val_accuracy: 0.5219\n",
      "Epoch 5/12\n",
      "1000/1000 [==============================] - 27s 27ms/step - loss: 1.3545 - accuracy: 0.5211 - val_loss: 1.2679 - val_accuracy: 0.5482\n",
      "Epoch 6/12\n",
      "1000/1000 [==============================] - 27s 27ms/step - loss: 1.2890 - accuracy: 0.5443 - val_loss: 1.2369 - val_accuracy: 0.5695\n",
      "Epoch 7/12\n",
      "1000/1000 [==============================] - 27s 27ms/step - loss: 1.2256 - accuracy: 0.5705 - val_loss: 1.1829 - val_accuracy: 0.5908\n",
      "Epoch 8/12\n",
      "1000/1000 [==============================] - 27s 27ms/step - loss: 1.1640 - accuracy: 0.5929 - val_loss: 1.1729 - val_accuracy: 0.5955\n",
      "Epoch 9/12\n",
      "1000/1000 [==============================] - 28s 28ms/step - loss: 1.1134 - accuracy: 0.6096 - val_loss: 1.1970 - val_accuracy: 0.5841\n",
      "Epoch 10/12\n",
      "1000/1000 [==============================] - 26s 26ms/step - loss: 1.0751 - accuracy: 0.6261 - val_loss: 1.1121 - val_accuracy: 0.6207\n",
      "Epoch 11/12\n",
      "1000/1000 [==============================] - 27s 27ms/step - loss: 1.0360 - accuracy: 0.6414 - val_loss: 1.1945 - val_accuracy: 0.5996\n",
      "Epoch 12/12\n",
      "1000/1000 [==============================] - 27s 27ms/step - loss: 1.0109 - accuracy: 0.6495 - val_loss: 1.1212 - val_accuracy: 0.6296\n"
     ]
    },
    {
     "data": {
      "text/plain": [
       "<keras.callbacks.History at 0x7fedac0a01f0>"
      ]
     },
     "execution_count": 65,
     "metadata": {},
     "output_type": "execute_result"
    }
   ],
   "source": [
    "model.fit(train_data,y_train, epochs=12, batch_size=50, validation_data=(test_data,y_test))"
   ]
  },
  {
   "cell_type": "markdown",
   "metadata": {},
   "source": [
    "## Transfer Learning"
   ]
  },
  {
   "cell_type": "markdown",
   "metadata": {},
   "source": [
    "In transfer learning, we use a network trained on one data set to provide a starting point for the modeling of other data.  As we are trying to model color images, we should look for another network trained on color images. \n",
    "\n",
    "The following cell will load the model, omitting its classification layer (since we're not interested in classifying `ImageNet` images)."
   ]
  },
  {
   "cell_type": "code",
   "execution_count": 66,
   "metadata": {},
   "outputs": [
    {
     "name": "stdout",
     "output_type": "stream",
     "text": [
      "Downloading data from https://storage.googleapis.com/tensorflow/keras-applications/inception_v3/inception_v3_weights_tf_dim_ordering_tf_kernels.h5\n",
      "96112376/96112376 [==============================] - 47s 0us/step\n"
     ]
    }
   ],
   "source": [
    "# include_top=False will discard avg_pool before prediction layer\n",
    "inception = tf.keras.applications.inception_v3.InceptionV3(include_top=True, input_shape=(299, 299, 3))\n",
    "inception = tf.keras.Model([inception.input], [inception.layers[-2].output]) # manually discard prediction layer"
   ]
  },
  {
   "cell_type": "code",
   "execution_count": null,
   "metadata": {},
   "outputs": [],
   "source": []
  }
 ],
 "metadata": {
  "kernelspec": {
   "display_name": "Python 3",
   "language": "python",
   "name": "python3"
  },
  "language_info": {
   "codemirror_mode": {
    "name": "ipython",
    "version": 3
   },
   "file_extension": ".py",
   "mimetype": "text/x-python",
   "name": "python",
   "nbconvert_exporter": "python",
   "pygments_lexer": "ipython3",
   "version": "3.8.3"
  }
 },
 "nbformat": 4,
 "nbformat_minor": 4
}
